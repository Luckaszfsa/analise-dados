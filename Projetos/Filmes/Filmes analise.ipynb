{
 "cells": [
  {
   "cell_type": "code",
   "execution_count": 1,
   "id": "952e451b",
   "metadata": {},
   "outputs": [],
   "source": [
    "import pandas as pd\n",
    "import datapane as dp\n",
    "import altair as alt\n",
    "from vega_datasets import data\n",
    "import plotly.express as px"
   ]
  },
  {
   "cell_type": "code",
   "execution_count": 2,
   "id": "7495fe3d",
   "metadata": {},
   "outputs": [],
   "source": [
    "df = pd.read_csv(r'C:\\Users\\User\\Projetos análise de dados\\analise-dados\\Projetos\\População mundial\\data_population_world.csv', encoding='utf-8')"
   ]
  },
  {
   "cell_type": "code",
   "execution_count": 3,
   "id": "b8f31f36",
   "metadata": {},
   "outputs": [
    {
     "data": {
      "text/html": [
       "<div>\n",
       "<style scoped>\n",
       "    .dataframe tbody tr th:only-of-type {\n",
       "        vertical-align: middle;\n",
       "    }\n",
       "\n",
       "    .dataframe tbody tr th {\n",
       "        vertical-align: top;\n",
       "    }\n",
       "\n",
       "    .dataframe thead th {\n",
       "        text-align: right;\n",
       "    }\n",
       "</style>\n",
       "<table border=\"1\" class=\"dataframe\">\n",
       "  <thead>\n",
       "    <tr style=\"text-align: right;\">\n",
       "      <th></th>\n",
       "      <th>Country Name</th>\n",
       "      <th>Country Code</th>\n",
       "      <th>Indicator Name</th>\n",
       "      <th>Indicator Code</th>\n",
       "      <th>1960</th>\n",
       "      <th>1961</th>\n",
       "      <th>1962</th>\n",
       "      <th>1963</th>\n",
       "      <th>1964</th>\n",
       "      <th>1965</th>\n",
       "      <th>...</th>\n",
       "      <th>2013</th>\n",
       "      <th>2014</th>\n",
       "      <th>2015</th>\n",
       "      <th>2016</th>\n",
       "      <th>2017</th>\n",
       "      <th>2018</th>\n",
       "      <th>2019</th>\n",
       "      <th>2020</th>\n",
       "      <th>2021</th>\n",
       "      <th>Unnamed: 66</th>\n",
       "    </tr>\n",
       "  </thead>\n",
       "  <tbody>\n",
       "    <tr>\n",
       "      <th>0</th>\n",
       "      <td>Aruba</td>\n",
       "      <td>ABW</td>\n",
       "      <td>Población, total</td>\n",
       "      <td>SP.POP.TOTL</td>\n",
       "      <td>54608.0</td>\n",
       "      <td>55811.0</td>\n",
       "      <td>56682.0</td>\n",
       "      <td>57475.0</td>\n",
       "      <td>58178.0</td>\n",
       "      <td>58782.0</td>\n",
       "      <td>...</td>\n",
       "      <td>102880.0</td>\n",
       "      <td>103594.0</td>\n",
       "      <td>104257.0</td>\n",
       "      <td>104874.0</td>\n",
       "      <td>105439.0</td>\n",
       "      <td>105962.0</td>\n",
       "      <td>106442.0</td>\n",
       "      <td>106585.0</td>\n",
       "      <td>106537.0</td>\n",
       "      <td>NaN</td>\n",
       "    </tr>\n",
       "    <tr>\n",
       "      <th>1</th>\n",
       "      <td>NaN</td>\n",
       "      <td>AFE</td>\n",
       "      <td>Población, total</td>\n",
       "      <td>SP.POP.TOTL</td>\n",
       "      <td>130692579.0</td>\n",
       "      <td>134169237.0</td>\n",
       "      <td>137835590.0</td>\n",
       "      <td>141630546.0</td>\n",
       "      <td>145605995.0</td>\n",
       "      <td>149742351.0</td>\n",
       "      <td>...</td>\n",
       "      <td>567891875.0</td>\n",
       "      <td>583650827.0</td>\n",
       "      <td>600008150.0</td>\n",
       "      <td>616377331.0</td>\n",
       "      <td>632746296.0</td>\n",
       "      <td>649756874.0</td>\n",
       "      <td>667242712.0</td>\n",
       "      <td>685112705.0</td>\n",
       "      <td>702976832.0</td>\n",
       "      <td>NaN</td>\n",
       "    </tr>\n",
       "    <tr>\n",
       "      <th>2</th>\n",
       "      <td>Afganistán</td>\n",
       "      <td>AFG</td>\n",
       "      <td>Población, total</td>\n",
       "      <td>SP.POP.TOTL</td>\n",
       "      <td>8622466.0</td>\n",
       "      <td>8790140.0</td>\n",
       "      <td>8969047.0</td>\n",
       "      <td>9157465.0</td>\n",
       "      <td>9355514.0</td>\n",
       "      <td>9565147.0</td>\n",
       "      <td>...</td>\n",
       "      <td>31541209.0</td>\n",
       "      <td>32716210.0</td>\n",
       "      <td>33753499.0</td>\n",
       "      <td>34636207.0</td>\n",
       "      <td>35643418.0</td>\n",
       "      <td>36686784.0</td>\n",
       "      <td>37769499.0</td>\n",
       "      <td>38972230.0</td>\n",
       "      <td>40099462.0</td>\n",
       "      <td>NaN</td>\n",
       "    </tr>\n",
       "    <tr>\n",
       "      <th>3</th>\n",
       "      <td>NaN</td>\n",
       "      <td>AFW</td>\n",
       "      <td>Población, total</td>\n",
       "      <td>SP.POP.TOTL</td>\n",
       "      <td>97256290.0</td>\n",
       "      <td>99314028.0</td>\n",
       "      <td>101445032.0</td>\n",
       "      <td>103667517.0</td>\n",
       "      <td>105959979.0</td>\n",
       "      <td>108336203.0</td>\n",
       "      <td>...</td>\n",
       "      <td>387204553.0</td>\n",
       "      <td>397855507.0</td>\n",
       "      <td>408690375.0</td>\n",
       "      <td>419778384.0</td>\n",
       "      <td>431138704.0</td>\n",
       "      <td>442646825.0</td>\n",
       "      <td>454306063.0</td>\n",
       "      <td>466189102.0</td>\n",
       "      <td>478185907.0</td>\n",
       "      <td>NaN</td>\n",
       "    </tr>\n",
       "    <tr>\n",
       "      <th>4</th>\n",
       "      <td>Angola</td>\n",
       "      <td>AGO</td>\n",
       "      <td>Población, total</td>\n",
       "      <td>SP.POP.TOTL</td>\n",
       "      <td>5357195.0</td>\n",
       "      <td>5441333.0</td>\n",
       "      <td>5521400.0</td>\n",
       "      <td>5599827.0</td>\n",
       "      <td>5673199.0</td>\n",
       "      <td>5736582.0</td>\n",
       "      <td>...</td>\n",
       "      <td>26147002.0</td>\n",
       "      <td>27128337.0</td>\n",
       "      <td>28127721.0</td>\n",
       "      <td>29154746.0</td>\n",
       "      <td>30208628.0</td>\n",
       "      <td>31273533.0</td>\n",
       "      <td>32353588.0</td>\n",
       "      <td>33428486.0</td>\n",
       "      <td>34503774.0</td>\n",
       "      <td>NaN</td>\n",
       "    </tr>\n",
       "  </tbody>\n",
       "</table>\n",
       "<p>5 rows × 67 columns</p>\n",
       "</div>"
      ],
      "text/plain": [
       "  Country Name Country Code    Indicator Name Indicator Code         1960  \\\n",
       "0        Aruba          ABW  Población, total    SP.POP.TOTL      54608.0   \n",
       "1          NaN          AFE  Población, total    SP.POP.TOTL  130692579.0   \n",
       "2   Afganistán          AFG  Población, total    SP.POP.TOTL    8622466.0   \n",
       "3          NaN          AFW  Población, total    SP.POP.TOTL   97256290.0   \n",
       "4       Angola          AGO  Población, total    SP.POP.TOTL    5357195.0   \n",
       "\n",
       "          1961         1962         1963         1964         1965  ...  \\\n",
       "0      55811.0      56682.0      57475.0      58178.0      58782.0  ...   \n",
       "1  134169237.0  137835590.0  141630546.0  145605995.0  149742351.0  ...   \n",
       "2    8790140.0    8969047.0    9157465.0    9355514.0    9565147.0  ...   \n",
       "3   99314028.0  101445032.0  103667517.0  105959979.0  108336203.0  ...   \n",
       "4    5441333.0    5521400.0    5599827.0    5673199.0    5736582.0  ...   \n",
       "\n",
       "          2013         2014         2015         2016         2017  \\\n",
       "0     102880.0     103594.0     104257.0     104874.0     105439.0   \n",
       "1  567891875.0  583650827.0  600008150.0  616377331.0  632746296.0   \n",
       "2   31541209.0   32716210.0   33753499.0   34636207.0   35643418.0   \n",
       "3  387204553.0  397855507.0  408690375.0  419778384.0  431138704.0   \n",
       "4   26147002.0   27128337.0   28127721.0   29154746.0   30208628.0   \n",
       "\n",
       "          2018         2019         2020         2021  Unnamed: 66  \n",
       "0     105962.0     106442.0     106585.0     106537.0          NaN  \n",
       "1  649756874.0  667242712.0  685112705.0  702976832.0          NaN  \n",
       "2   36686784.0   37769499.0   38972230.0   40099462.0          NaN  \n",
       "3  442646825.0  454306063.0  466189102.0  478185907.0          NaN  \n",
       "4   31273533.0   32353588.0   33428486.0   34503774.0          NaN  \n",
       "\n",
       "[5 rows x 67 columns]"
      ]
     },
     "execution_count": 3,
     "metadata": {},
     "output_type": "execute_result"
    }
   ],
   "source": [
    "df.head()"
   ]
  },
  {
   "cell_type": "code",
   "execution_count": 4,
   "id": "6e6f9c90",
   "metadata": {},
   "outputs": [
    {
     "name": "stdout",
     "output_type": "stream",
     "text": [
      "<class 'pandas.core.frame.DataFrame'>\n",
      "RangeIndex: 266 entries, 0 to 265\n",
      "Data columns (total 67 columns):\n",
      " #   Column          Non-Null Count  Dtype  \n",
      "---  ------          --------------  -----  \n",
      " 0   Country Name    264 non-null    object \n",
      " 1   Country Code    266 non-null    object \n",
      " 2   Indicator Name  266 non-null    object \n",
      " 3   Indicator Code  266 non-null    object \n",
      " 4   1960            264 non-null    float64\n",
      " 5   1961            264 non-null    float64\n",
      " 6   1962            264 non-null    float64\n",
      " 7   1963            264 non-null    float64\n",
      " 8   1964            264 non-null    float64\n",
      " 9   1965            264 non-null    float64\n",
      " 10  1966            264 non-null    float64\n",
      " 11  1967            264 non-null    float64\n",
      " 12  1968            264 non-null    float64\n",
      " 13  1969            264 non-null    float64\n",
      " 14  1970            264 non-null    float64\n",
      " 15  1971            264 non-null    float64\n",
      " 16  1972            264 non-null    float64\n",
      " 17  1973            264 non-null    float64\n",
      " 18  1974            264 non-null    float64\n",
      " 19  1975            264 non-null    float64\n",
      " 20  1976            264 non-null    float64\n",
      " 21  1977            264 non-null    float64\n",
      " 22  1978            264 non-null    float64\n",
      " 23  1979            264 non-null    float64\n",
      " 24  1980            264 non-null    float64\n",
      " 25  1981            264 non-null    float64\n",
      " 26  1982            264 non-null    float64\n",
      " 27  1983            264 non-null    float64\n",
      " 28  1984            264 non-null    float64\n",
      " 29  1985            264 non-null    float64\n",
      " 30  1986            264 non-null    float64\n",
      " 31  1987            264 non-null    float64\n",
      " 32  1988            264 non-null    float64\n",
      " 33  1989            264 non-null    float64\n",
      " 34  1990            265 non-null    float64\n",
      " 35  1991            265 non-null    float64\n",
      " 36  1992            265 non-null    float64\n",
      " 37  1993            265 non-null    float64\n",
      " 38  1994            265 non-null    float64\n",
      " 39  1995            265 non-null    float64\n",
      " 40  1996            265 non-null    float64\n",
      " 41  1997            265 non-null    float64\n",
      " 42  1998            265 non-null    float64\n",
      " 43  1999            265 non-null    float64\n",
      " 44  2000            265 non-null    float64\n",
      " 45  2001            265 non-null    float64\n",
      " 46  2002            265 non-null    float64\n",
      " 47  2003            265 non-null    float64\n",
      " 48  2004            265 non-null    float64\n",
      " 49  2005            265 non-null    float64\n",
      " 50  2006            265 non-null    float64\n",
      " 51  2007            265 non-null    float64\n",
      " 52  2008            265 non-null    float64\n",
      " 53  2009            265 non-null    float64\n",
      " 54  2010            265 non-null    float64\n",
      " 55  2011            265 non-null    float64\n",
      " 56  2012            265 non-null    float64\n",
      " 57  2013            265 non-null    float64\n",
      " 58  2014            265 non-null    float64\n",
      " 59  2015            265 non-null    float64\n",
      " 60  2016            265 non-null    float64\n",
      " 61  2017            265 non-null    float64\n",
      " 62  2018            265 non-null    float64\n",
      " 63  2019            265 non-null    float64\n",
      " 64  2020            265 non-null    float64\n",
      " 65  2021            265 non-null    float64\n",
      " 66  Unnamed: 66     0 non-null      float64\n",
      "dtypes: float64(63), object(4)\n",
      "memory usage: 139.4+ KB\n"
     ]
    }
   ],
   "source": [
    "df.info()"
   ]
  },
  {
   "cell_type": "code",
   "execution_count": 5,
   "id": "65340507",
   "metadata": {},
   "outputs": [],
   "source": [
    "df.to_csv('Populacao mundo.csv')"
   ]
  },
  {
   "cell_type": "code",
   "execution_count": 75,
   "id": "5aa44303",
   "metadata": {},
   "outputs": [
    {
     "ename": "AttributeError",
     "evalue": "'Report' object has no attribute 'publish'",
     "output_type": "error",
     "traceback": [
      "\u001b[1;31m---------------------------------------------------------------------------\u001b[0m",
      "\u001b[1;31mAttributeError\u001b[0m                            Traceback (most recent call last)",
      "Cell \u001b[1;32mIn [75], line 2\u001b[0m\n\u001b[0;32m      1\u001b[0m \u001b[38;5;66;03m# Criar uma visualização interativa a partir do dataframe\u001b[39;00m\n\u001b[1;32m----> 2\u001b[0m dp\u001b[38;5;241m.\u001b[39mReport(df)\u001b[38;5;241m.\u001b[39mpublish()\n",
      "File \u001b[1;32m~\\AppData\\Local\\Programs\\Python\\Python310\\lib\\site-packages\\datapane\\client\\api\\dp_object.py:154\u001b[0m, in \u001b[0;36mDPObjectRef.__getattr__\u001b[1;34m(self, attr)\u001b[0m\n\u001b[0;32m    152\u001b[0m     \u001b[38;5;28;01mreturn\u001b[39;00m \u001b[38;5;28mgetattr\u001b[39m(\u001b[38;5;28mself\u001b[39m\u001b[38;5;241m.\u001b[39m_dto, attr)\n\u001b[0;32m    153\u001b[0m \u001b[38;5;66;03m# Default behaviour\u001b[39;00m\n\u001b[1;32m--> 154\u001b[0m \u001b[38;5;28;01mreturn\u001b[39;00m \u001b[38;5;28;43mself\u001b[39;49m\u001b[38;5;241;43m.\u001b[39;49m\u001b[38;5;21;43m__getattribute__\u001b[39;49m\u001b[43m(\u001b[49m\u001b[43mattr\u001b[49m\u001b[43m)\u001b[49m\n",
      "\u001b[1;31mAttributeError\u001b[0m: 'Report' object has no attribute 'publish'"
     ]
    }
   ],
   "source": [
    "# Criar uma visualização interativa a partir do dataframe\n",
    "dp.Report(df).publish()"
   ]
  },
  {
   "cell_type": "code",
   "execution_count": 74,
   "id": "1c316266",
   "metadata": {},
   "outputs": [
    {
     "name": "stdout",
     "output_type": "stream",
     "text": [
      "Connected successfully to https://cloud.datapane.com as luckasz.mendes@gmail.com\n"
     ]
    }
   ],
   "source": [
    "!datapane login --token=935628682dd5fcad409d2a5f1291d158c5b5a863\n",
    "\n"
   ]
  },
  {
   "cell_type": "code",
   "execution_count": 77,
   "id": "73be6fa5",
   "metadata": {},
   "outputs": [
    {
     "name": "stderr",
     "output_type": "stream",
     "text": [
      "C:\\Users\\User\\AppData\\Local\\Programs\\Python\\Python310\\lib\\site-packages\\altair\\utils\\core.py:317: FutureWarning: iteritems is deprecated and will be removed in a future version. Use .items instead.\n",
      "  for col_name, dtype in df.dtypes.iteritems():\n"
     ]
    },
    {
     "data": {
      "text/markdown": [
       "Uploading app and associated data - *please wait...*"
      ],
      "text/plain": [
       "<IPython.core.display.Markdown object>"
      ]
     },
     "metadata": {},
     "output_type": "display_data"
    },
    {
     "data": {
      "text/markdown": [
       "App successfully uploaded. View and share your app at <a href='https://cloud.datapane.com/apps/0AEnep3/my-example-app/' target='_blank'>here</a>."
      ],
      "text/plain": [
       "<IPython.core.display.Markdown object>"
      ]
     },
     "metadata": {},
     "output_type": "display_data"
    }
   ],
   "source": [
    "df = data.cars()\n",
    "\n",
    "plot1 = (\n",
    "    alt.Chart(df)\n",
    "    .mark_circle(size=60)\n",
    "    .encode(\n",
    "        x=\"Horsepower\",\n",
    "        y=\"Miles_per_Gallon\",\n",
    "        color=\"Origin\",\n",
    "        tooltip=[\"Name\", \"Origin\", \"Horsepower\", \"Miles_per_Gallon\"],\n",
    "    )\n",
    "    .interactive()\n",
    ")\n",
    "\n",
    "app = dp.App(dp.Plot(plot1), dp.DataTable(df))\n",
    "app.upload(name=\"My example app\")"
   ]
  },
  {
   "cell_type": "code",
   "execution_count": 81,
   "id": "7ccdbefb",
   "metadata": {},
   "outputs": [
    {
     "ename": "AttributeError",
     "evalue": "module 'datapane' has no attribute 'Plotly'",
     "output_type": "error",
     "traceback": [
      "\u001b[1;31m---------------------------------------------------------------------------\u001b[0m",
      "\u001b[1;31mAttributeError\u001b[0m                            Traceback (most recent call last)",
      "Cell \u001b[1;32mIn [81], line 8\u001b[0m\n\u001b[0;32m      5\u001b[0m fig \u001b[38;5;241m=\u001b[39m px\u001b[38;5;241m.\u001b[39mbar(df, x\u001b[38;5;241m=\u001b[39m\u001b[38;5;124m'\u001b[39m\u001b[38;5;124mCategorias\u001b[39m\u001b[38;5;124m'\u001b[39m, y\u001b[38;5;241m=\u001b[39m\u001b[38;5;124m'\u001b[39m\u001b[38;5;124mValores\u001b[39m\u001b[38;5;124m'\u001b[39m)\n\u001b[0;32m      7\u001b[0m \u001b[38;5;66;03m# Adicionar o gráfico a um relatório no Datapane\u001b[39;00m\n\u001b[1;32m----> 8\u001b[0m dp\u001b[38;5;241m.\u001b[39mReport(dp\u001b[38;5;241m.\u001b[39mPlotly(fig))\u001b[38;5;241m.\u001b[39mpublish()\n",
      "\u001b[1;31mAttributeError\u001b[0m: module 'datapane' has no attribute 'Plotly'"
     ]
    }
   ],
   "source": [
    "# Criar um dataframe com dados de exemplo\n",
    "df = pd.DataFrame({'Categorias': ['A', 'B', 'C', 'D'], 'Valores': [10, 20, 30, 40]})\n",
    "\n",
    "# Criar um gráfico de barras usando o Plotly Express\n",
    "fig = px.bar(df, x='Categorias', y='Valores')\n",
    "\n",
    "# Adicionar o gráfico a um relatório no Datapane\n",
    "dp.Report(dp.Plotly(fig)).publish()"
   ]
  },
  {
   "cell_type": "code",
   "execution_count": 6,
   "id": "d677cf72",
   "metadata": {},
   "outputs": [
    {
     "data": {
      "text/plain": [
       "Country Name        2\n",
       "Country Code        0\n",
       "Indicator Name      0\n",
       "Indicator Code      0\n",
       "1960                2\n",
       "                 ... \n",
       "2018                1\n",
       "2019                1\n",
       "2020                1\n",
       "2021                1\n",
       "Unnamed: 66       266\n",
       "Length: 67, dtype: int64"
      ]
     },
     "execution_count": 6,
     "metadata": {},
     "output_type": "execute_result"
    }
   ],
   "source": [
    "df.isnull().sum()"
   ]
  }
 ],
 "metadata": {
  "kernelspec": {
   "display_name": "Python 3 (ipykernel)",
   "language": "python",
   "name": "python3"
  },
  "language_info": {
   "codemirror_mode": {
    "name": "ipython",
    "version": 3
   },
   "file_extension": ".py",
   "mimetype": "text/x-python",
   "name": "python",
   "nbconvert_exporter": "python",
   "pygments_lexer": "ipython3",
   "version": "3.10.3"
  }
 },
 "nbformat": 4,
 "nbformat_minor": 5
}
