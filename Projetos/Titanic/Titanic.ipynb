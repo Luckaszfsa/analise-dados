{
 "cells": [
  {
   "cell_type": "code",
   "execution_count": 2,
   "id": "3c76dc2d",
   "metadata": {},
   "outputs": [],
   "source": [
    "import pandas as pd\n",
    "import numpy as np\n",
    "import matplotlib.pyplot as plt\n",
    "import seaborn as sns\n",
    "import warnings\n",
    "warnings.filterwarnings(\"ignore\")"
   ]
  },
  {
   "cell_type": "code",
   "execution_count": 3,
   "id": "31837b67",
   "metadata": {},
   "outputs": [],
   "source": [
    "df = pd.read_csv(r'C:\\Users\\User\\Projetos análise de dados\\analise-dados\\Projetos\\Titanic\\train.csv')\n"
   ]
  },
  {
   "cell_type": "code",
   "execution_count": 4,
   "id": "510c667f",
   "metadata": {},
   "outputs": [
    {
     "data": {
      "text/plain": [
       "PassengerId    False\n",
       "Survived       False\n",
       "Pclass         False\n",
       "Name           False\n",
       "Sex            False\n",
       "Age             True\n",
       "SibSp          False\n",
       "Parch          False\n",
       "Ticket         False\n",
       "Fare           False\n",
       "Cabin           True\n",
       "Embarked        True\n",
       "dtype: bool"
      ]
     },
     "execution_count": 4,
     "metadata": {},
     "output_type": "execute_result"
    }
   ],
   "source": [
    "df.isna().any()\n"
   ]
  },
  {
   "cell_type": "code",
   "execution_count": 5,
   "id": "4a6e6820",
   "metadata": {},
   "outputs": [
    {
     "data": {
      "text/plain": [
       "PassengerId      0\n",
       "Survived         0\n",
       "Pclass           0\n",
       "Name             0\n",
       "Sex              0\n",
       "Age            177\n",
       "SibSp            0\n",
       "Parch            0\n",
       "Ticket           0\n",
       "Fare             0\n",
       "Cabin          687\n",
       "Embarked         2\n",
       "dtype: int64"
      ]
     },
     "execution_count": 5,
     "metadata": {},
     "output_type": "execute_result"
    }
   ],
   "source": [
    "df.isna().sum()"
   ]
  },
  {
   "cell_type": "code",
   "execution_count": 6,
   "id": "fa182e80",
   "metadata": {},
   "outputs": [],
   "source": [
    "#Eliminando colunas desnecessárias a análise\n",
    "df.drop(['Cabin', 'Ticket', 'Embarked'],axis=1, inplace=True)"
   ]
  },
  {
   "cell_type": "code",
   "execution_count": null,
   "id": "f2fdaa88",
   "metadata": {},
   "outputs": [],
   "source": [
    "df.isna().sum()"
   ]
  },
  {
   "cell_type": "markdown",
   "id": "7e23c7cc",
   "metadata": {},
   "source": [
    "DICIONÁRIO DE DADOS\n",
    "\n",
    "\n",
    "\n",
    "PassengerId - id do passageiro\n",
    "\n",
    "Survived - Sobrevivente (0=NÃO , 1=SIM)\n",
    "\n",
    "Pclass - CLASSE (1 , 2 OU 3)\n",
    "\n",
    "Name - nome\n",
    "\n",
    "Sex - sexo\n",
    "\n",
    "Age - idade\n",
    "\n",
    "SibSp - Irmãos/ conjugues a bordo\n",
    "\n",
    "Parch - Pais/ Filhos a bordo\n",
    "\n",
    "Fare - tarifa de passageiro\n"
   ]
  },
  {
   "cell_type": "code",
   "execution_count": null,
   "id": "758128f3",
   "metadata": {},
   "outputs": [],
   "source": [
    "#calculo a média, mediana e moda para verificar qual metodo uso na substituição de valores ausentes\n",
    "df.Age.mean()"
   ]
  },
  {
   "cell_type": "code",
   "execution_count": null,
   "id": "7434bcf0",
   "metadata": {},
   "outputs": [],
   "source": [
    "df.Age.median()"
   ]
  },
  {
   "cell_type": "code",
   "execution_count": null,
   "id": "7f12e48b",
   "metadata": {},
   "outputs": [],
   "source": [
    "df.Age.mode()"
   ]
  },
  {
   "cell_type": "code",
   "execution_count": null,
   "id": "83c994bb",
   "metadata": {},
   "outputs": [],
   "source": [
    "# Aplico a substituição dos ausentes com o valor da media\n",
    "df.Age.fillna('29', inplace=True)"
   ]
  },
  {
   "cell_type": "code",
   "execution_count": null,
   "id": "31e2f6e9",
   "metadata": {},
   "outputs": [],
   "source": [
    "df.isna().sum()"
   ]
  },
  {
   "cell_type": "code",
   "execution_count": null,
   "id": "0fb2dc3f",
   "metadata": {},
   "outputs": [],
   "source": [
    "df.info()"
   ]
  },
  {
   "cell_type": "code",
   "execution_count": null,
   "id": "5f114e6b",
   "metadata": {},
   "outputs": [],
   "source": [
    "#exporto o arquivo tratado para um novo arquivo onde será usado o Power BI\n",
    "df.to_csv('titanic_limpo.csv')\n"
   ]
  },
  {
   "cell_type": "markdown",
   "id": "8ae9e953",
   "metadata": {},
   "source": [
    "## Considerações finais ##\n",
    "\n",
    "Analisando a situação dos sobreviventes do Titanic foi possível identificar alguns pontos importantes sobre os 342 sobreviventes dentre os 891 passageiros. Apesar de possuir 35% de mulheres no navio, 74% delas foram salvas, priorizaram-nas.\n",
    "\n",
    "Foi priorizado tambem os passageiros acima de 50 anos, representando 73% dos sobreviventes.\n",
    "A condição econômica se comprovou ser um fator diferencial, onde 62% dos passageiros que embarcaram na primeira classe foram salvos, 47 % dos de segunda classe e 24% dos de terceira classe, denotando o impacto social/ econômico no resgate do navio.\n",
    "\n",
    "\n"
   ]
  }
 ],
 "metadata": {
  "kernelspec": {
   "display_name": "Python 3 (ipykernel)",
   "language": "python",
   "name": "python3"
  },
  "language_info": {
   "codemirror_mode": {
    "name": "ipython",
    "version": 3
   },
   "file_extension": ".py",
   "mimetype": "text/x-python",
   "name": "python",
   "nbconvert_exporter": "python",
   "pygments_lexer": "ipython3",
   "version": "3.10.3"
  }
 },
 "nbformat": 4,
 "nbformat_minor": 5
}
